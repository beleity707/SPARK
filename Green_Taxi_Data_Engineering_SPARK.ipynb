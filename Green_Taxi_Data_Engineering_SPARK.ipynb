{
 "cells": [
  {
   "cell_type": "code",
   "execution_count": 2,
   "metadata": {},
   "outputs": [],
   "source": [
    "# Import linear regression library\n",
    "from pyspark.ml.regression import LinearRegression\n"
   ]
  },
  {
   "cell_type": "code",
   "execution_count": 3,
   "metadata": {},
   "outputs": [
    {
     "data": {
      "text/html": [
       "\n",
       "            <div>\n",
       "                <p><b>SparkSession - in-memory</b></p>\n",
       "                \n",
       "        <div>\n",
       "            <p><b>SparkContext</b></p>\n",
       "\n",
       "            <p><a href=\"http://964e96ae1f45:4041\">Spark UI</a></p>\n",
       "\n",
       "            <dl>\n",
       "              <dt>Version</dt>\n",
       "                <dd><code>v2.4.0</code></dd>\n",
       "              <dt>Master</dt>\n",
       "                <dd><code>local[4]</code></dd>\n",
       "              <dt>AppName</dt>\n",
       "                <dd><code>Test</code></dd>\n",
       "            </dl>\n",
       "        </div>\n",
       "        \n",
       "            </div>\n",
       "        "
      ],
      "text/plain": [
       "<pyspark.sql.session.SparkSession at 0x7ff3aa2ae780>"
      ]
     },
     "execution_count": 3,
     "metadata": {},
     "output_type": "execute_result"
    }
   ],
   "source": [
    "# Starting Spark Session\n",
    "from pyspark.sql import SparkSession\n",
    "spark = SparkSession.builder \\\n",
    "    .config('spark.master', 'local[4]') \\\n",
    "    .appName('Test') \\\n",
    "    .getOrCreate()\n",
    "\n",
    "sc = spark.sparkContext\n",
    "spark"
   ]
  },
  {
   "cell_type": "code",
   "execution_count": 4,
   "metadata": {},
   "outputs": [],
   "source": [
    "# Start with seed 1\n",
    "seed=1"
   ]
  },
  {
   "cell_type": "code",
   "execution_count": 5,
   "metadata": {},
   "outputs": [],
   "source": [
    "Green_Taxi_DF = spark.read.csv(\"Green_Taxi_B7.csv\",header=True,inferSchema=True)"
   ]
  },
  {
   "cell_type": "code",
   "execution_count": 6,
   "metadata": {
    "scrolled": true
   },
   "outputs": [
    {
     "data": {
      "text/html": [
       "<div>\n",
       "<style scoped>\n",
       "    .dataframe tbody tr th:only-of-type {\n",
       "        vertical-align: middle;\n",
       "    }\n",
       "\n",
       "    .dataframe tbody tr th {\n",
       "        vertical-align: top;\n",
       "    }\n",
       "\n",
       "    .dataframe thead th {\n",
       "        text-align: right;\n",
       "    }\n",
       "</style>\n",
       "<table border=\"1\" class=\"dataframe\">\n",
       "  <thead>\n",
       "    <tr style=\"text-align: right;\">\n",
       "      <th></th>\n",
       "      <th>Pickup_longitude</th>\n",
       "      <th>Pickup_latitude</th>\n",
       "      <th>Dropoff_longitude</th>\n",
       "      <th>Dropoff_latitude</th>\n",
       "      <th>month</th>\n",
       "      <th>week</th>\n",
       "      <th>day</th>\n",
       "      <th>hour</th>\n",
       "      <th>Trip_distance</th>\n",
       "      <th>Final_Fare_amount</th>\n",
       "      <th>Trip_Duration</th>\n",
       "      <th>speed</th>\n",
       "      <th>log_Trip_distance</th>\n",
       "      <th>log_Trip_Duration</th>\n",
       "    </tr>\n",
       "  </thead>\n",
       "  <tbody>\n",
       "    <tr>\n",
       "      <th>0</th>\n",
       "      <td>-75.231</td>\n",
       "      <td>39.928</td>\n",
       "      <td>-75.227</td>\n",
       "      <td>39.930</td>\n",
       "      <td>6.0</td>\n",
       "      <td>23.0</td>\n",
       "      <td>8.0</td>\n",
       "      <td>20.0</td>\n",
       "      <td>0.25</td>\n",
       "      <td>4.3</td>\n",
       "      <td>1.12</td>\n",
       "      <td>13.43</td>\n",
       "      <td>-1.39</td>\n",
       "      <td>0.11</td>\n",
       "    </tr>\n",
       "    <tr>\n",
       "      <th>1</th>\n",
       "      <td>-75.165</td>\n",
       "      <td>39.954</td>\n",
       "      <td>-75.165</td>\n",
       "      <td>39.954</td>\n",
       "      <td>2.0</td>\n",
       "      <td>7.0</td>\n",
       "      <td>15.0</td>\n",
       "      <td>12.0</td>\n",
       "      <td>0.20</td>\n",
       "      <td>3.3</td>\n",
       "      <td>0.70</td>\n",
       "      <td>17.14</td>\n",
       "      <td>-1.61</td>\n",
       "      <td>-0.36</td>\n",
       "    </tr>\n",
       "    <tr>\n",
       "      <th>2</th>\n",
       "      <td>-74.466</td>\n",
       "      <td>40.368</td>\n",
       "      <td>-74.444</td>\n",
       "      <td>40.416</td>\n",
       "      <td>1.0</td>\n",
       "      <td>4.0</td>\n",
       "      <td>25.0</td>\n",
       "      <td>16.0</td>\n",
       "      <td>3.70</td>\n",
       "      <td>20.8</td>\n",
       "      <td>19.27</td>\n",
       "      <td>11.52</td>\n",
       "      <td>1.31</td>\n",
       "      <td>2.96</td>\n",
       "    </tr>\n",
       "  </tbody>\n",
       "</table>\n",
       "</div>"
      ],
      "text/plain": [
       "   Pickup_longitude  Pickup_latitude  Dropoff_longitude  Dropoff_latitude  \\\n",
       "0           -75.231           39.928            -75.227            39.930   \n",
       "1           -75.165           39.954            -75.165            39.954   \n",
       "2           -74.466           40.368            -74.444            40.416   \n",
       "\n",
       "   month  week   day  hour  Trip_distance  Final_Fare_amount  Trip_Duration  \\\n",
       "0    6.0  23.0   8.0  20.0           0.25                4.3           1.12   \n",
       "1    2.0   7.0  15.0  12.0           0.20                3.3           0.70   \n",
       "2    1.0   4.0  25.0  16.0           3.70               20.8          19.27   \n",
       "\n",
       "   speed  log_Trip_distance  log_Trip_Duration  \n",
       "0  13.43              -1.39               0.11  \n",
       "1  17.14              -1.61              -0.36  \n",
       "2  11.52               1.31               2.96  "
      ]
     },
     "execution_count": 6,
     "metadata": {},
     "output_type": "execute_result"
    }
   ],
   "source": [
    "Green_Taxi_DF.limit(3).toPandas()"
   ]
  },
  {
   "cell_type": "code",
   "execution_count": 7,
   "metadata": {},
   "outputs": [],
   "source": [
    "# Dorp the unneeded columns\n",
    "Green_Taxi_DF= Green_Taxi_DF.drop('speed')\n",
    "Green_Taxi_DF= Green_Taxi_DF.drop('log_Trip_Duration')"
   ]
  },
  {
   "cell_type": "code",
   "execution_count": 8,
   "metadata": {},
   "outputs": [],
   "source": [
    "# Split the data\n",
    "trainData,testData = Green_Taxi_DF.randomSplit([0.8,0.2],seed=seed)"
   ]
  },
  {
   "cell_type": "code",
   "execution_count": 9,
   "metadata": {},
   "outputs": [],
   "source": [
    "inputCols = trainData.columns"
   ]
  },
  {
   "cell_type": "code",
   "execution_count": 10,
   "metadata": {},
   "outputs": [
    {
     "data": {
      "text/plain": [
       "['Pickup_longitude',\n",
       " 'Pickup_latitude',\n",
       " 'Dropoff_longitude',\n",
       " 'Dropoff_latitude',\n",
       " 'month',\n",
       " 'week',\n",
       " 'day',\n",
       " 'hour',\n",
       " 'Trip_distance',\n",
       " 'Final_Fare_amount',\n",
       " 'Trip_Duration',\n",
       " 'log_Trip_distance']"
      ]
     },
     "execution_count": 10,
     "metadata": {},
     "output_type": "execute_result"
    }
   ],
   "source": [
    "inputCols"
   ]
  },
  {
   "cell_type": "code",
   "execution_count": 11,
   "metadata": {},
   "outputs": [],
   "source": [
    "# Convert input columns to a list\n",
    "inputCols = list(filter(lambda x: not any(s in x for s in ['Trip_Duration','Final_Fare_amount']),inputCols))\n"
   ]
  },
  {
   "cell_type": "code",
   "execution_count": 12,
   "metadata": {},
   "outputs": [
    {
     "data": {
      "text/plain": [
       "['Pickup_longitude',\n",
       " 'Pickup_latitude',\n",
       " 'Dropoff_longitude',\n",
       " 'Dropoff_latitude',\n",
       " 'month',\n",
       " 'week',\n",
       " 'day',\n",
       " 'hour',\n",
       " 'Trip_distance',\n",
       " 'log_Trip_distance']"
      ]
     },
     "execution_count": 12,
     "metadata": {},
     "output_type": "execute_result"
    }
   ],
   "source": [
    "inputCols"
   ]
  },
  {
   "cell_type": "code",
   "execution_count": 13,
   "metadata": {},
   "outputs": [
    {
     "data": {
      "text/html": [
       "<div>\n",
       "<style scoped>\n",
       "    .dataframe tbody tr th:only-of-type {\n",
       "        vertical-align: middle;\n",
       "    }\n",
       "\n",
       "    .dataframe tbody tr th {\n",
       "        vertical-align: top;\n",
       "    }\n",
       "\n",
       "    .dataframe thead th {\n",
       "        text-align: right;\n",
       "    }\n",
       "</style>\n",
       "<table border=\"1\" class=\"dataframe\">\n",
       "  <thead>\n",
       "    <tr style=\"text-align: right;\">\n",
       "      <th></th>\n",
       "      <th>Pickup_longitude</th>\n",
       "      <th>Pickup_latitude</th>\n",
       "      <th>Dropoff_longitude</th>\n",
       "      <th>Dropoff_latitude</th>\n",
       "      <th>month</th>\n",
       "      <th>week</th>\n",
       "      <th>day</th>\n",
       "      <th>hour</th>\n",
       "      <th>Trip_distance</th>\n",
       "      <th>Final_Fare_amount</th>\n",
       "      <th>Trip_Duration</th>\n",
       "      <th>log_Trip_distance</th>\n",
       "    </tr>\n",
       "  </thead>\n",
       "  <tbody>\n",
       "    <tr>\n",
       "      <th>0</th>\n",
       "      <td>-75.231</td>\n",
       "      <td>39.928</td>\n",
       "      <td>-75.227</td>\n",
       "      <td>39.93</td>\n",
       "      <td>6.0</td>\n",
       "      <td>23.0</td>\n",
       "      <td>8.0</td>\n",
       "      <td>20.0</td>\n",
       "      <td>0.25</td>\n",
       "      <td>4.3</td>\n",
       "      <td>1.12</td>\n",
       "      <td>-1.39</td>\n",
       "    </tr>\n",
       "  </tbody>\n",
       "</table>\n",
       "</div>"
      ],
      "text/plain": [
       "   Pickup_longitude  Pickup_latitude  Dropoff_longitude  Dropoff_latitude  \\\n",
       "0           -75.231           39.928            -75.227             39.93   \n",
       "\n",
       "   month  week  day  hour  Trip_distance  Final_Fare_amount  Trip_Duration  \\\n",
       "0    6.0  23.0  8.0  20.0           0.25                4.3           1.12   \n",
       "\n",
       "   log_Trip_distance  \n",
       "0              -1.39  "
      ]
     },
     "execution_count": 13,
     "metadata": {},
     "output_type": "execute_result"
    }
   ],
   "source": [
    "trainData.limit(1).toPandas()"
   ]
  },
  {
   "cell_type": "code",
   "execution_count": 14,
   "metadata": {},
   "outputs": [],
   "source": [
    "############### Machine Learning\n",
    "# Use vector assmbelter to convert the data to featurevector and required output label\n",
    "from pyspark.ml.feature import VectorAssembler\n",
    "va = VectorAssembler()\\\n",
    "        .setInputCols(inputCols)\\\n",
    "        .setOutputCol(\"featureVector\")"
   ]
  },
  {
   "cell_type": "code",
   "execution_count": 15,
   "metadata": {},
   "outputs": [
    {
     "name": "stdout",
     "output_type": "stream",
     "text": [
      "+----------------------------------------------------------------------------------+-------------+\n",
      "|featureVector                                                                     |Trip_Duration|\n",
      "+----------------------------------------------------------------------------------+-------------+\n",
      "|[-75.23100000000001,39.928000000000004,-75.227,39.93,6.0,23.0,8.0,20.0,0.25,-1.39]|1.12         |\n",
      "|[-75.165,39.954,-75.165,39.954,2.0,7.0,15.0,12.0,0.2,-1.61]                       |0.7          |\n",
      "+----------------------------------------------------------------------------------+-------------+\n",
      "only showing top 2 rows\n",
      "\n"
     ]
    }
   ],
   "source": [
    "# Predict Fare\n",
    "# Transform the data using the Vector assembler\n",
    "TripTrainData = va.transform(trainData)\n",
    "TripTrainData.select(\"featureVector\", 'Trip_Duration').show(truncate=False, n=2)\n"
   ]
  },
  {
   "cell_type": "code",
   "execution_count": 16,
   "metadata": {},
   "outputs": [
    {
     "name": "stdout",
     "output_type": "stream",
     "text": [
      "+------------------------------------------------------------+-------------+\n",
      "|featureVector                                               |Trip_Duration|\n",
      "+------------------------------------------------------------+-------------+\n",
      "|[-74.285,40.519,-74.293,40.521,4.0,15.0,16.0,7.0,0.52,-0.65]|2.83         |\n",
      "|[-74.23,40.77,-74.188,40.765,6.0,23.0,6.0,10.0,2.59,0.95]   |11.05        |\n",
      "+------------------------------------------------------------+-------------+\n",
      "only showing top 2 rows\n",
      "\n"
     ]
    }
   ],
   "source": [
    "TripTestData = va.transform(testData)\n",
    "TripTestData.select(\"featureVector\", 'Trip_Duration').show(truncate=False, n=2)"
   ]
  },
  {
   "cell_type": "code",
   "execution_count": 17,
   "metadata": {},
   "outputs": [],
   "source": [
    "from pyspark.ml.regression import LinearRegression\n",
    "lr = LinearRegression(featuresCol = 'featureVector', labelCol='Trip_Duration', maxIter=10, regParam=0.3, elasticNetParam=0.8)\n"
   ]
  },
  {
   "cell_type": "code",
   "execution_count": 18,
   "metadata": {},
   "outputs": [],
   "source": [
    "# Fit the train data with the linear regression and build the model\n",
    "ModelA = lr.fit(TripTrainData)\n"
   ]
  },
  {
   "cell_type": "code",
   "execution_count": 19,
   "metadata": {},
   "outputs": [
    {
     "name": "stdout",
     "output_type": "stream",
     "text": [
      "RMSE: 3.144892\n",
      "r2: 0.714153\n"
     ]
    }
   ],
   "source": [
    "# Calculate the RMSE for the train model\n",
    "trainingSummary = ModelA.summary\n",
    "print(\"RMSE: %f\" % trainingSummary.rootMeanSquaredError)\n",
    "print(\"r2: %f\" % trainingSummary.r2)"
   ]
  },
  {
   "cell_type": "code",
   "execution_count": 21,
   "metadata": {},
   "outputs": [
    {
     "name": "stdout",
     "output_type": "stream",
     "text": [
      "+------------------+-----------------+--------------------+\n",
      "|        prediction|Final_Fare_amount|       featureVector|\n",
      "+------------------+-----------------+--------------------+\n",
      "| 4.611552086878177|              4.8|[-74.285,40.519,-...|\n",
      "|13.270932397746364|             11.8|[-74.23,40.77,-74...|\n",
      "| 6.167635178976099|5.799999999999998|[-74.195,40.702,-...|\n",
      "|19.456683411262404|             16.3|[-74.185,40.564,-...|\n",
      "|14.598487240152565|             12.3|[-74.179,40.607,-...|\n",
      "+------------------+-----------------+--------------------+\n",
      "only showing top 5 rows\n",
      "\n"
     ]
    }
   ],
   "source": [
    "# Do the prediction for the test data\n",
    "Trip_lr_predictions = ModelA.transform(TripTestData)\n",
    "Trip_lr_predictions.select(\"prediction\",\"Final_Fare_amount\",\"featureVector\").show(5)\n"
   ]
  },
  {
   "cell_type": "code",
   "execution_count": 22,
   "metadata": {},
   "outputs": [
    {
     "name": "stdout",
     "output_type": "stream",
     "text": [
      "R Squared (R2) on test data = 0.714194\n"
     ]
    }
   ],
   "source": [
    "# Evaluate the model\n",
    "from pyspark.ml.evaluation import RegressionEvaluator\n",
    "\n",
    "Trip_lr_evaluator = RegressionEvaluator(predictionCol=\"prediction\", \\\n",
    "                 labelCol=\"Trip_Duration\",metricName=\"r2\")\n",
    "print(\"R Squared (R2) on test data = %g\" % Trip_lr_evaluator.evaluate(Trip_lr_predictions))\n"
   ]
  },
  {
   "cell_type": "markdown",
   "metadata": {},
   "source": [
    "<br><B>Now we will do the same for the Taxi Fare <br><br><br>"
   ]
  },
  {
   "cell_type": "code",
   "execution_count": 23,
   "metadata": {},
   "outputs": [
    {
     "name": "stdout",
     "output_type": "stream",
     "text": [
      "+----------------------------------------------------------------------------------+-----------------+\n",
      "|featureVector                                                                     |Final_Fare_amount|\n",
      "+----------------------------------------------------------------------------------+-----------------+\n",
      "|[-75.23100000000001,39.928000000000004,-75.227,39.93,6.0,23.0,8.0,20.0,0.25,-1.39]|4.3              |\n",
      "|[-75.165,39.954,-75.165,39.954,2.0,7.0,15.0,12.0,0.2,-1.61]                       |3.3              |\n",
      "+----------------------------------------------------------------------------------+-----------------+\n",
      "only showing top 2 rows\n",
      "\n"
     ]
    }
   ],
   "source": [
    "# Predict Fare\n",
    "FareTrainData = va.transform(trainData)\n",
    "FareTrainData.select(\"featureVector\", 'Final_Fare_amount').show(truncate=False, n=2)"
   ]
  },
  {
   "cell_type": "code",
   "execution_count": 24,
   "metadata": {},
   "outputs": [
    {
     "name": "stdout",
     "output_type": "stream",
     "text": [
      "+------------------------------------------------------------+-----------------+\n",
      "|featureVector                                               |Final_Fare_amount|\n",
      "+------------------------------------------------------------+-----------------+\n",
      "|[-74.285,40.519,-74.293,40.521,4.0,15.0,16.0,7.0,0.52,-0.65]|4.8              |\n",
      "|[-74.23,40.77,-74.188,40.765,6.0,23.0,6.0,10.0,2.59,0.95]   |11.8             |\n",
      "+------------------------------------------------------------+-----------------+\n",
      "only showing top 2 rows\n",
      "\n"
     ]
    }
   ],
   "source": [
    "FareTestData = va.transform(testData)\n",
    "FareTestData.select(\"featureVector\", 'Final_Fare_amount').show(truncate=False, n=2)"
   ]
  },
  {
   "cell_type": "code",
   "execution_count": 25,
   "metadata": {},
   "outputs": [],
   "source": [
    "from pyspark.ml.regression import LinearRegression\n",
    "Fare_lr = LinearRegression(featuresCol = 'featureVector', labelCol='Final_Fare_amount', maxIter=10, regParam=0.3, elasticNetParam=0.8)\n"
   ]
  },
  {
   "cell_type": "code",
   "execution_count": 26,
   "metadata": {},
   "outputs": [],
   "source": [
    "ModelB = Fare_lr.fit(FareTrainData)"
   ]
  },
  {
   "cell_type": "code",
   "execution_count": 27,
   "metadata": {},
   "outputs": [
    {
     "name": "stdout",
     "output_type": "stream",
     "text": [
      "RMSE: 1.327268\n",
      "r2: 0.909894\n"
     ]
    }
   ],
   "source": [
    "Fare_trainingSummary = ModelB.summary\n",
    "print(\"RMSE: %f\" % Fare_trainingSummary.rootMeanSquaredError)\n",
    "print(\"r2: %f\" % Fare_trainingSummary.r2)"
   ]
  },
  {
   "cell_type": "code",
   "execution_count": 28,
   "metadata": {},
   "outputs": [],
   "source": [
    "Fare_lr_predictions = ModelB.transform(FareTestData)"
   ]
  },
  {
   "cell_type": "code",
   "execution_count": 29,
   "metadata": {},
   "outputs": [
    {
     "name": "stdout",
     "output_type": "stream",
     "text": [
      "+------------------+-----------------+--------------------+\n",
      "|        prediction|Final_Fare_amount|       featureVector|\n",
      "+------------------+-----------------+--------------------+\n",
      "| 5.950869475332949|              4.8|[-74.285,40.519,-...|\n",
      "|12.525673956865889|             11.8|[-74.23,40.77,-74...|\n",
      "| 6.974178080963257|5.799999999999998|[-74.195,40.702,-...|\n",
      "|18.383190648653446|             16.3|[-74.185,40.564,-...|\n",
      "| 13.76861219564039|             12.3|[-74.179,40.607,-...|\n",
      "+------------------+-----------------+--------------------+\n",
      "only showing top 5 rows\n",
      "\n"
     ]
    }
   ],
   "source": [
    "Fare_lr_predictions.select(\"prediction\",\"Final_Fare_amount\",\"featureVector\").show(5)\n"
   ]
  },
  {
   "cell_type": "code",
   "execution_count": 30,
   "metadata": {},
   "outputs": [
    {
     "name": "stdout",
     "output_type": "stream",
     "text": [
      "R Squared (R2) on test data = 0.909869\n"
     ]
    }
   ],
   "source": [
    "from pyspark.ml.evaluation import RegressionEvaluator\n",
    "\n",
    "Fare_lr_evaluator = RegressionEvaluator(predictionCol=\"prediction\", \\\n",
    "                 labelCol=\"Final_Fare_amount\",metricName=\"r2\")\n",
    "print(\"R Squared (R2) on test data = %g\" % Fare_lr_evaluator.evaluate(Fare_lr_predictions))\n"
   ]
  },
  {
   "cell_type": "markdown",
   "metadata": {},
   "source": [
    "<b>Save the Model (Pickle)"
   ]
  },
  {
   "cell_type": "code",
   "execution_count": 31,
   "metadata": {},
   "outputs": [],
   "source": [
    "ModelA.save(\"modelA.model\")\n"
   ]
  },
  {
   "cell_type": "code",
   "execution_count": 32,
   "metadata": {},
   "outputs": [],
   "source": [
    "ModelB.save(\"modelB.model\")\n"
   ]
  },
  {
   "cell_type": "markdown",
   "metadata": {},
   "source": [
    " "
   ]
  },
  {
   "cell_type": "markdown",
   "metadata": {},
   "source": [
    "<b>Call the Model (Pickle)"
   ]
  },
  {
   "cell_type": "markdown",
   "metadata": {},
   "source": [
    " "
   ]
  },
  {
   "cell_type": "code",
   "execution_count": 33,
   "metadata": {},
   "outputs": [],
   "source": [
    "from pyspark.ml.regression import LinearRegressionModel"
   ]
  },
  {
   "cell_type": "code",
   "execution_count": 72,
   "metadata": {},
   "outputs": [],
   "source": [
    "Trip_lr_model = LinearRegressionModel.load(\"modelA.model\")\n",
    "Fare_lr_model = LinearRegressionModel.load(\"modelB.model\")\n"
   ]
  },
  {
   "cell_type": "code",
   "execution_count": 73,
   "metadata": {
    "scrolled": true
   },
   "outputs": [
    {
     "data": {
      "text/html": [
       "<div>\n",
       "<style scoped>\n",
       "    .dataframe tbody tr th:only-of-type {\n",
       "        vertical-align: middle;\n",
       "    }\n",
       "\n",
       "    .dataframe tbody tr th {\n",
       "        vertical-align: top;\n",
       "    }\n",
       "\n",
       "    .dataframe thead th {\n",
       "        text-align: right;\n",
       "    }\n",
       "</style>\n",
       "<table border=\"1\" class=\"dataframe\">\n",
       "  <thead>\n",
       "    <tr style=\"text-align: right;\">\n",
       "      <th></th>\n",
       "      <th>Pickup_longitude</th>\n",
       "      <th>Pickup_latitude</th>\n",
       "      <th>Dropoff_longitude</th>\n",
       "      <th>Dropoff_latitude</th>\n",
       "      <th>month</th>\n",
       "      <th>week</th>\n",
       "      <th>day</th>\n",
       "      <th>hour</th>\n",
       "      <th>Trip_distance</th>\n",
       "      <th>Final_Fare_amount</th>\n",
       "      <th>Trip_Duration</th>\n",
       "      <th>log_Trip_distance</th>\n",
       "    </tr>\n",
       "  </thead>\n",
       "  <tbody>\n",
       "    <tr>\n",
       "      <th>0</th>\n",
       "      <td>-75.231</td>\n",
       "      <td>39.928</td>\n",
       "      <td>-75.227</td>\n",
       "      <td>39.930</td>\n",
       "      <td>6.0</td>\n",
       "      <td>23.0</td>\n",
       "      <td>8.0</td>\n",
       "      <td>20.0</td>\n",
       "      <td>0.25</td>\n",
       "      <td>4.3</td>\n",
       "      <td>1.12</td>\n",
       "      <td>-1.39</td>\n",
       "    </tr>\n",
       "    <tr>\n",
       "      <th>1</th>\n",
       "      <td>-75.165</td>\n",
       "      <td>39.954</td>\n",
       "      <td>-75.165</td>\n",
       "      <td>39.954</td>\n",
       "      <td>2.0</td>\n",
       "      <td>7.0</td>\n",
       "      <td>15.0</td>\n",
       "      <td>12.0</td>\n",
       "      <td>0.20</td>\n",
       "      <td>3.3</td>\n",
       "      <td>0.70</td>\n",
       "      <td>-1.61</td>\n",
       "    </tr>\n",
       "  </tbody>\n",
       "</table>\n",
       "</div>"
      ],
      "text/plain": [
       "   Pickup_longitude  Pickup_latitude  Dropoff_longitude  Dropoff_latitude  \\\n",
       "0           -75.231           39.928            -75.227            39.930   \n",
       "1           -75.165           39.954            -75.165            39.954   \n",
       "\n",
       "   month  week   day  hour  Trip_distance  Final_Fare_amount  Trip_Duration  \\\n",
       "0    6.0  23.0   8.0  20.0           0.25                4.3           1.12   \n",
       "1    2.0   7.0  15.0  12.0           0.20                3.3           0.70   \n",
       "\n",
       "   log_Trip_distance  \n",
       "0              -1.39  \n",
       "1              -1.61  "
      ]
     },
     "execution_count": 73,
     "metadata": {},
     "output_type": "execute_result"
    }
   ],
   "source": [
    "trainData.limit(2).toPandas()"
   ]
  },
  {
   "cell_type": "code",
   "execution_count": 74,
   "metadata": {
    "scrolled": false
   },
   "outputs": [
    {
     "data": {
      "text/html": [
       "<div>\n",
       "<style scoped>\n",
       "    .dataframe tbody tr th:only-of-type {\n",
       "        vertical-align: middle;\n",
       "    }\n",
       "\n",
       "    .dataframe tbody tr th {\n",
       "        vertical-align: top;\n",
       "    }\n",
       "\n",
       "    .dataframe thead th {\n",
       "        text-align: right;\n",
       "    }\n",
       "</style>\n",
       "<table border=\"1\" class=\"dataframe\">\n",
       "  <thead>\n",
       "    <tr style=\"text-align: right;\">\n",
       "      <th></th>\n",
       "      <th>Pickup_longitude</th>\n",
       "      <th>Pickup_latitude</th>\n",
       "      <th>Dropoff_longitude</th>\n",
       "      <th>Dropoff_latitude</th>\n",
       "      <th>month</th>\n",
       "      <th>week</th>\n",
       "      <th>day</th>\n",
       "      <th>hour</th>\n",
       "      <th>Trip_distance</th>\n",
       "      <th>log_Trip_distance</th>\n",
       "    </tr>\n",
       "  </thead>\n",
       "  <tbody>\n",
       "    <tr>\n",
       "      <th>0</th>\n",
       "      <td>-75.231</td>\n",
       "      <td>39.928</td>\n",
       "      <td>-75.227</td>\n",
       "      <td>39.93</td>\n",
       "      <td>6.0</td>\n",
       "      <td>23.0</td>\n",
       "      <td>8.0</td>\n",
       "      <td>20.0</td>\n",
       "      <td>0.25</td>\n",
       "      <td>-1.39</td>\n",
       "    </tr>\n",
       "  </tbody>\n",
       "</table>\n",
       "</div>"
      ],
      "text/plain": [
       "   Pickup_longitude  Pickup_latitude  Dropoff_longitude  Dropoff_latitude  \\\n",
       "0           -75.231           39.928            -75.227             39.93   \n",
       "\n",
       "   month  week  day  hour  Trip_distance  log_Trip_distance  \n",
       "0    6.0  23.0  8.0  20.0           0.25              -1.39  "
      ]
     },
     "execution_count": 74,
     "metadata": {},
     "output_type": "execute_result"
    }
   ],
   "source": [
    "columns = ['Pickup_longitude','Pickup_latitude','Dropoff_longitude','Dropoff_latitude','month','week','day','hour','Trip_distance','log_Trip_distance']\n",
    "vals = [(-75.231,39.928,-75.227,39.93,6.0,23.0,8.0,20.0,0.25,-1.39)]\n",
    "\n",
    "df = spark.createDataFrame(vals, columns)\n",
    "df.toPandas()"
   ]
  },
  {
   "cell_type": "code",
   "execution_count": 75,
   "metadata": {},
   "outputs": [
    {
     "name": "stdout",
     "output_type": "stream",
     "text": [
      "+-----------------------------------------------------------+-------------+\n",
      "|featureVector                                              |Trip_distance|\n",
      "+-----------------------------------------------------------+-------------+\n",
      "|[-75.231,39.928,-75.227,39.93,6.0,23.0,8.0,20.0,0.25,-1.39]|0.25         |\n",
      "+-----------------------------------------------------------+-------------+\n",
      "\n"
     ]
    }
   ],
   "source": [
    "rec = va.transform(df)\n",
    "rec.select(\"featureVector\", 'Trip_distance').show(truncate=False, n=2)\n"
   ]
  },
  {
   "cell_type": "code",
   "execution_count": 76,
   "metadata": {},
   "outputs": [],
   "source": [
    "predicted1 = Trip_lr_model.transform(rec)\n"
   ]
  },
  {
   "cell_type": "code",
   "execution_count": 84,
   "metadata": {},
   "outputs": [
    {
     "name": "stdout",
     "output_type": "stream",
     "text": [
      "+--------------------+-------------+------------------+\n",
      "|       featureVector|Trip_distance|        prediction|\n",
      "+--------------------+-------------+------------------+\n",
      "|[-75.231,39.928,-...|         0.25|3.2263917388071235|\n",
      "+--------------------+-------------+------------------+\n",
      "\n"
     ]
    }
   ],
   "source": [
    "predicted1.select(\"featureVector\",\"prediction\").show(5)\n"
   ]
  },
  {
   "cell_type": "code",
   "execution_count": 78,
   "metadata": {},
   "outputs": [],
   "source": [
    "predicted2 = Fare_lr_model.transform(rec)\n"
   ]
  },
  {
   "cell_type": "code",
   "execution_count": 83,
   "metadata": {},
   "outputs": [
    {
     "name": "stdout",
     "output_type": "stream",
     "text": [
      "+--------------------+-----------------+\n",
      "|       featureVector|       prediction|\n",
      "+--------------------+-----------------+\n",
      "|[-75.231,39.928,-...|4.566109023316363|\n",
      "+--------------------+-----------------+\n",
      "\n"
     ]
    }
   ],
   "source": [
    "predicted2.select(\"featureVector\",\"prediction\").show(5)\n"
   ]
  },
  {
   "cell_type": "code",
   "execution_count": null,
   "metadata": {},
   "outputs": [],
   "source": []
  }
 ],
 "metadata": {
  "kernelspec": {
   "display_name": "Python 3",
   "language": "python",
   "name": "python3"
  },
  "language_info": {
   "codemirror_mode": {
    "name": "ipython",
    "version": 3
   },
   "file_extension": ".py",
   "mimetype": "text/x-python",
   "name": "python",
   "nbconvert_exporter": "python",
   "pygments_lexer": "ipython3",
   "version": "3.6.8"
  }
 },
 "nbformat": 4,
 "nbformat_minor": 2
}
